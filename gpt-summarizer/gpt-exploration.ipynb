{
 "cells": [
  {
   "cell_type": "code",
   "execution_count": 57,
   "metadata": {},
   "outputs": [],
   "source": [
    "from openai import OpenAI\n",
    "import os\n",
    "from dotenv import load_dotenv\n",
    "import json\n",
    "from datetime import date, datetime"
   ]
  },
  {
   "cell_type": "code",
   "execution_count": 7,
   "metadata": {},
   "outputs": [],
   "source": [
    "load_dotenv()\n",
    "api_key = os.environ.get(\"OPENAI_API_KEY\")\n",
    "model = os.environ.get('OPENAI_MODEL')\n",
    "client = OpenAI(api_key=api_key)"
   ]
  },
  {
   "cell_type": "code",
   "execution_count": 20,
   "metadata": {},
   "outputs": [],
   "source": [
    "# Open the JSON file for reading\n",
    "with open('data/nba.json', 'r', encoding=\"utf8\") as file:\n",
    "    # Load the JSON data into a dictionary\n",
    "    data = json.load(file)\n",
    "\n",
    "hot_posts = data['hotposts']\n",
    "gpt_input = \"\"\n",
    "for hot_post in hot_posts:\n",
    "    title = hot_post['title']\n",
    "    body = hot_post['selftext']\n",
    "    comments_arr = hot_post['comments']['data']['children']\n",
    "    comments = \"\"\n",
    "    for comment in comments_arr:\n",
    "        comment_text = comment['data']['body']\n",
    "        comments += comment_text + ','\n",
    "    formatted_hot_post = 'Post title: title' + '\\n' + ' Post body: ' + body + '\\n' + 'Post comments: ' + comments\n",
    "    gpt_input += formatted_hot_post + '\\n'"
   ]
  },
  {
   "cell_type": "code",
   "execution_count": 40,
   "metadata": {},
   "outputs": [],
   "source": [
    "completion = client.chat.completions.create(\n",
    "  model=model,\n",
    "  messages=[\n",
    "    {\"role\": \"assistant\", \n",
    "     \"content\": \n",
    "     \"You are a daily newsletter writer that summarizes the past day's hot posts on a subreddit, with a chill, informative, modern narrative tone.\"},\n",
    "     {\"role\": \"user\", \"content\": f\"Provide me a newsletter title and body for the following subreddit's hot posts and comments, without an intro and signoff. Format response by including \\\"Newsletter Title:\\\" and \\\"Newsletter Body:\\\" in your response.: {gpt_input}.\"}\n",
    "  ],\n",
    "  temperature=0.3,\n",
    "  max_tokens=800\n",
    ")"
   ]
  },
  {
   "cell_type": "code",
   "execution_count": 41,
   "metadata": {},
   "outputs": [],
   "source": [
    "raw_text = completion.choices[0].message.content"
   ]
  },
  {
   "cell_type": "code",
   "execution_count": 42,
   "metadata": {},
   "outputs": [
    {
     "data": {
      "text/plain": [
       "\"Newsletter Title: Hoops Highlights Daily\\n\\nNewsletter Body:\\nGiannis Antetokounmpo showcased his dominance against the Hawks, leading the Bucks to victory with an impressive stat line. Despite some fans questioning his MVP candidacy, Giannis continues to shine, proving his worth in the league. The Bucks' rollercoaster season hasn't dampened Giannis' performance, and his consistency is a testament to his skill.\\n\\nIn another game, the spotlight was on Westbrook as he received love from OKC fans. His contributions to the Thunder franchise were celebrated, contrasting with the reception Durant faced. Westbrook's legacy continues to grow, with fans eager to see him excel on the court.\\n\\nMeanwhile, discussions around signature stat lines and career milestones in the NBA sparked debates among fans. From LeBron's impressive stats to Giannis' consistent performance, the league's top players are making history with their achievements.\\n\\nOn a lighter note, Jeff Teague's humorous comparison of group projects resonated with fans, showcasing his laid-back personality off the court. The NBA community appreciates Teague's humility and humor, making him a fan favorite even after his playing days.\\n\\nAs the season progresses, the NBA remains a hub of excitement and drama, with players like Malik Monk leaving fans on edge with uncertain futures. The ups and downs of the league keep fans engaged, eagerly anticipating the next game-changing moment.\""
      ]
     },
     "execution_count": 42,
     "metadata": {},
     "output_type": "execute_result"
    }
   ],
   "source": [
    "raw_text"
   ]
  },
  {
   "cell_type": "code",
   "execution_count": 43,
   "metadata": {},
   "outputs": [],
   "source": [
    "title_start = raw_text.index(\"Newsletter Title:\") + len(\"Newsletter Title:\")\n",
    "title_end = raw_text.index(\"Newsletter Body:\")\n",
    "title =  raw_text[title_start:title_end].strip()\n",
    "\n",
    "body_start = raw_text.index(\"Newsletter Body:\") + len(\"Newsletter Body:\")\n",
    "body = raw_text[body_start:].strip()"
   ]
  },
  {
   "cell_type": "code",
   "execution_count": 44,
   "metadata": {},
   "outputs": [
    {
     "data": {
      "text/plain": [
       "'Hoops Highlights Daily'"
      ]
     },
     "execution_count": 44,
     "metadata": {},
     "output_type": "execute_result"
    }
   ],
   "source": [
    "title"
   ]
  },
  {
   "cell_type": "code",
   "execution_count": 45,
   "metadata": {},
   "outputs": [
    {
     "data": {
      "text/plain": [
       "\"Giannis Antetokounmpo showcased his dominance against the Hawks, leading the Bucks to victory with an impressive stat line. Despite some fans questioning his MVP candidacy, Giannis continues to shine, proving his worth in the league. The Bucks' rollercoaster season hasn't dampened Giannis' performance, and his consistency is a testament to his skill.\\n\\nIn another game, the spotlight was on Westbrook as he received love from OKC fans. His contributions to the Thunder franchise were celebrated, contrasting with the reception Durant faced. Westbrook's legacy continues to grow, with fans eager to see him excel on the court.\\n\\nMeanwhile, discussions around signature stat lines and career milestones in the NBA sparked debates among fans. From LeBron's impressive stats to Giannis' consistent performance, the league's top players are making history with their achievements.\\n\\nOn a lighter note, Jeff Teague's humorous comparison of group projects resonated with fans, showcasing his laid-back personality off the court. The NBA community appreciates Teague's humility and humor, making him a fan favorite even after his playing days.\\n\\nAs the season progresses, the NBA remains a hub of excitement and drama, with players like Malik Monk leaving fans on edge with uncertain futures. The ups and downs of the league keep fans engaged, eagerly anticipating the next game-changing moment.\""
      ]
     },
     "execution_count": 45,
     "metadata": {},
     "output_type": "execute_result"
    }
   ],
   "source": [
    "body"
   ]
  },
  {
   "cell_type": "code",
   "execution_count": 48,
   "metadata": {},
   "outputs": [],
   "source": [
    "import firebase_admin\n",
    "from firebase_admin import credentials\n",
    "from firebase_admin import firestore\n",
    "\n",
    "# Use a service account.\n",
    "cred = credentials.Certificate(\"../reddit-newsletter-firebase-key.json\")\n",
    "\n",
    "app = firebase_admin.initialize_app(cred)\n",
    "\n",
    "db = firestore.client()"
   ]
  },
  {
   "cell_type": "code",
   "execution_count": 59,
   "metadata": {},
   "outputs": [],
   "source": [
    "today = date.today()\n",
    "firestore_today = datetime(today.year, today.month, today.day)"
   ]
  },
  {
   "cell_type": "code",
   "execution_count": 60,
   "metadata": {},
   "outputs": [
    {
     "data": {
      "text/plain": [
       "update_time {\n",
       "  seconds: 1711930232\n",
       "  nanos: 554743000\n",
       "}"
      ]
     },
     "execution_count": 60,
     "metadata": {},
     "output_type": "execute_result"
    }
   ],
   "source": [
    "doc_ref = db.collection(\"daily_subreddit_summary\").document(f\"nba - {today}\")\n",
    "doc_ref.set({\"date\": firestore_today, \"title\": title, \"body\": body})"
   ]
  }
 ],
 "metadata": {
  "kernelspec": {
   "display_name": ".venv",
   "language": "python",
   "name": "python3"
  },
  "language_info": {
   "codemirror_mode": {
    "name": "ipython",
    "version": 3
   },
   "file_extension": ".py",
   "mimetype": "text/x-python",
   "name": "python",
   "nbconvert_exporter": "python",
   "pygments_lexer": "ipython3",
   "version": "3.9.0"
  }
 },
 "nbformat": 4,
 "nbformat_minor": 2
}
