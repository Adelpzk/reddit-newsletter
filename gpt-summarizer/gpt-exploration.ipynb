{
 "cells": [
  {
   "cell_type": "code",
   "execution_count": 57,
   "metadata": {},
   "outputs": [],
   "source": [
    "from openai import OpenAI\n",
    "import os\n",
    "from dotenv import load_dotenv\n",
    "import json\n",
    "from datetime import date, datetime"
   ]
  },
  {
   "cell_type": "code",
   "execution_count": 7,
   "metadata": {},
   "outputs": [],
   "source": [
    "load_dotenv()\n",
    "api_key = os.environ.get(\"OPENAI_API_KEY\")\n",
    "model = os.environ.get('OPENAI_MODEL')\n",
    "client = OpenAI(api_key=api_key)"
   ]
  },
  {
   "cell_type": "code",
   "execution_count": 14,
   "metadata": {},
   "outputs": [
    {
     "data": {
      "text/plain": [
       "{'subredditname': 'r/nba',\n",
       " 'hotposts': [{'title': 'Giannis Antetokounmpo without Dame vs the Hawks: 36/16/7/3/1 on 12/22 FG (55%) and the W',\n",
       "   'selftext': '12/22 FG (55%)\\n\\n12/16 FT (75%)\\n\\n16 REB (4 OFF 12 DEF)\\n\\n7 AST\\n\\n3 STL\\n\\n1 BLK\\n\\nGiannis dominated the Hawks without Dame and even held down the defense when Brook was on the bench with Doc playing a Giannis-anchored defense.\\n\\n[Box Score](https://www.nba.com/game/mil-vs-atl-0022301076/box-score)',\n",
       "   'comments': {'kind': 'Listing',\n",
       "    'data': {'children': [{'data': {'body': 'Took way too many unnecessary jumpers and still ends it on 55% lol'}},\n",
       "      {'data': {'body': \"Giannis has been incredible. I can't figure out how he's basically considered out of the MVP race.\\n\\nPeople talk about the Bucks under performing but Dame has been below average all year, Middleton has been in and out with injuries, they had a coaching change.\\n\\nThe fact that Giannis is doing what he's doing despite that and the Bucks are still 2nd in the East and have the 5th best record in the  nba should be seen as a positive for him, but for some reason it's a negative.\"}},\n",
       "      {'data': {'body': \"curious why he isn't in mvp talks\"}},\n",
       "      {'data': {'body': 'In a few years people are going to look at this season Giannis is having and be completely baffled how he finished so low in the MVP race.'}},\n",
       "      {'data': {'body': \"For the life of me I can't figure out why Shai is consensus over him in MVP talks.\"}},\n",
       "      {'data': {'body': \"He had 8 assists. Don't sell my man short.\"}},\n",
       "      {'data': {'body': 'The NBA has been officially saved from the Trae-less Hawks. The East can sleep easy tonight.'}},\n",
       "      {'data': {'body': 'Celtics beat Bucks, Hawks beat Celtics, Bucks beat Hawks. Perfectly balanced.'}},\n",
       "      {'data': {'body': 'Best player in the world back on his bullshit!\\n\\nHeld to the highest standard itl'}},\n",
       "      {'data': {'body': 'Dominated!\\xa0\\n\\n2x MVP in full effect\\xa0'}},\n",
       "      {'data': {'body': ''}}]}}},\n",
       "  {'title': 'Russell Westbrook gets a standing ovation from Thunder fans on his return.',\n",
       "   'selftext': '',\n",
       "   'comments': {'kind': 'Listing',\n",
       "    'data': {'children': [{'data': {'body': 'This guy gets it'}},\n",
       "      {'data': {'body': 'As he should. He gave them his all when he was there until the franchise decided to go in a different direction'}},\n",
       "      {'data': {'body': 'Let me translate this for my Memphis homies… Russ is to Mike Conley as KD is to Coach Cal'}},\n",
       "      {'data': {'body': 'it makes me very happy to see all the love russ still gets in okc :’)'}},\n",
       "      {'data': {'body': 'seeing them cheer Russ and Boo KD brings me happiness.'}},\n",
       "      {'data': {'body': 'I loved how Westbrook did his little pre-game warm up'}},\n",
       "      {'data': {'body': 'I like how Russ gave them that quick wave and heart pound to the crowd and then instantly went into \"time to kill these mfers now\"'}},\n",
       "      {'data': {'body': 'I know 300 is basically a fake movie, but goddamn that first year without KD + the triple double season + MVP + scoring champ was the equivalent of fighting in the Battle of Thermopylae\\n\\nHe became a top 5 all time favorite non-Heat player for me'}},\n",
       "      {'data': {'body': 'Respect to Russ. Man gave the franchise all that he could. Love seeing the difference between him and KD though'}},\n",
       "      {'data': {'body': 'Completely deserved, must be a great moment for him every time he comes back.'}},\n",
       "      {'data': {'body': ''}}]}}},\n",
       "  {'title': '[Highlight] Porzingis refuses to allow Zion to score',\n",
       "   'selftext': '',\n",
       "   'comments': {'kind': 'Listing',\n",
       "    'data': {'children': [{'data': {'body': '**Replays/alternate angles** *I am a bot, and this action was performed automatically. Please [contact the moderators of this subreddit](/message/compose/?to=/r/nba) if you have any questions or concerns.*\\n\\n\\n*I am a bot, and this action was performed automatically. Please [contact the moderators of this subreddit](/message/compose/?to=/r/nba) if you have any questions or concerns.*'}},\n",
       "      {'data': {'body': 'I saw he had 4 blocks in this game, didn’t know it was in one possession.'}},\n",
       "      {'data': {'body': 'who da fuk is ziongus piongus'}},\n",
       "      {'data': {'body': 'It looked like taking food from a bulldog.'}},\n",
       "      {'data': {'body': 'I’m here for the zingus championship run'}},\n",
       "      {'data': {'body': 'I’m no coach but 4 dudes at or near the paint you kick it out to one of your four other players no?'}},\n",
       "      {'data': {'body': 'Zion Stopper'}},\n",
       "      {'data': {'body': 'Ziongus Piongus, the real MVP. Got them locks tighter than Fort Knox. Bring that trophy home, big fella.'}},\n",
       "      {'data': {'body': 'Latvian Gobert in tha House!!!!!!'}},\n",
       "      {'data': {'body': 'Good defense is one of the more beautiful aspects of this sport.'}},\n",
       "      {'data': {'body': ''}}]}}},\n",
       "  {'title': 'Giannis is now tied with LeBron for the most career games with at least 30/10/5',\n",
       "   'selftext': '[Source:](https://www.statmuse.com/nba/ask/most-career-games-with-30-points-10-rebound-and-5-assists)\\n\\nNot surprising to see the GOAT on here, but Giannis looks like he might demolish that record, especially considering those have been right around his season averages for the last 5 seasons. Is 30/10/5 his signature stat line?\\n',\n",
       "   'comments': {'kind': 'Listing',\n",
       "    'data': {'children': [{'data': {'body': '&gt; Is 30/10/5 his signature stat line?\\n\\nNgl tho that really is the Giannis line'}},\n",
       "      {'data': {'body': \"Same no.of 30/10/5 games. 10 years apart. Giannis wasn't even a 2nd option his first 2 seasons. He's been on an all-time pace since 2017/18\"}},\n",
       "      {'data': {'body': \"On his BBRef page:\\n\\n&gt;**Giannis Antetokounmpo**\\xa0is the only player in NBA history to average at least 25 PPG, 10 RPG, 5 APG, 1 BPG and 1 SPG in multiple seasons.\\n\\nHe's on pace to do it for the 5th time this year\"}},\n",
       "      {'data': {'body': 'That’s kind of unreal.'}},\n",
       "      {'data': {'body': 'Why haven’t I heard anything about him lately? Dude is that guy'}},\n",
       "      {'data': {'body': 'That is actually blowing my mind'}},\n",
       "      {'data': {'body': 'Kind of surprised Kareem isn’t on this list… what’s the cutoff year for included stats here?'}},\n",
       "      {'data': {'body': 'Is there a reason he’s not a top mvp candidate? I feel like I’ve been hearing Luka, Jokic, shai, Tatum but not Giannis enough'}},\n",
       "      {'data': {'body': 'Lebron and I are tied for games with 27/7/7 stat line.'}},\n",
       "      {'data': {'body': '6\\'3\" Westbrook casually including himself with the big men.'}},\n",
       "      {'data': {'body': ''}}]}}},\n",
       "  {'title': 'Forget 40k/10k/10k; LeBron is 59 assists away from 40k/11k/11k with eight games left in the season',\n",
       "   'selftext': \"LeBron reaching 40k/10k/10k was a widely publicized achievement for good reason... it's fucking absurd.\\n\\nIncredibly, he has a pretty damn good chance at reaching 40k/11k/11k this year, though. \\n\\nHe's 59 assists away with 8 games left, which comes out to roughly 7.4 assists per game. He averages 8.1 assists per game on the season but over the past two months he's at 9.3. So if he plays all 8 games, he should definitely hit it. Granted it's not guaranteed he'll play all 8.\\n\\nIn any case, he'll hit it at some point.\\n\\nAll-time assists leaders for those curious:\\n\\n1. Stockton: 15806\\n2. Kidd: 12091\\n3. Paul: 11842\\n4. LeBron: 10941\\n\\nNo shot at cracking anyone above him. He averages 521 assists per season and he's 901 assists behind CP3. Even if CP3 retired after this season it would probably be a close call. Still, #4 all-time is pretty sweet.\",\n",
       "   'comments': {'kind': 'Listing',\n",
       "    'data': {'children': [{'data': {'body': \"Lebron's highlight reel will be longer than a Scorcese movie\"}},\n",
       "      {'data': {'body': \"Lebron gonna play till he's 50, he can beat cp3\"}},\n",
       "      {'data': {'body': \"he's got 2 separate Hall of Fame careers.  so crazy.\"}},\n",
       "      {'data': {'body': 'Rumours are he plans to sign 3 years deal, no? If he plays 3 more I can see him finishing 2nd on that list.'}},\n",
       "      {'data': {'body': 'LeBron can definitely catch CP3 and Kidd'}},\n",
       "      {'data': {'body': 'Oldest all nba player?'}},\n",
       "      {'data': {'body': \"ngl i want LeBron to play until he's 50 and break all the statistics record lmfao\"}},\n",
       "      {'data': {'body': 'Another fun Lebron fact. Once Chris Paul retires, Lebron will be the active leader in points, rebounds, assists and steals. And he is 10th in blocks'}},\n",
       "      {'data': {'body': 'I love coming into these threads and still seeing people doubt this man like we haven’t been watching this shit for 2 decades'}},\n",
       "      {'data': {'body': '\"No shot\" lol. Sure OP. \\n\\n*Sure*.'}},\n",
       "      {'data': {'body': ''}}]}}},\n",
       "  {'title': '[Highlight] Jayson Tatum receives a technical foul from Tony Brothers for a violent hand wave',\n",
       "   'selftext': '',\n",
       "   'comments': {'kind': 'Listing',\n",
       "    'data': {'children': [{'data': {'body': '**Replays/alternate angles** *I am a bot, and this action was performed automatically. Please [contact the moderators of this subreddit](/message/compose/?to=/r/nba) if you have any questions or concerns.*\\n\\n\\n*I am a bot, and this action was performed automatically. Please [contact the moderators of this subreddit](/message/compose/?to=/r/nba) if you have any questions or concerns.*'}},\n",
       "      {'data': {'body': 'This has to be a running joke among the refs at this point.'}},\n",
       "      {'data': {'body': 'Tony Brothers vs Celtics is a special rivalry lmao. He gave Jaylen Brown a tech 1-2 months ago too for a hand clap'}},\n",
       "      {'data': {'body': 'I swear this gets funnier every time. I’d be so pissed though if I was a Celtics fan. Because this is truly unfair.'}},\n",
       "      {'data': {'body': 'Does anyone get softer techs than Tatum?'}},\n",
       "      {'data': {'body': 'The right call. Clearly this was going to escalate to violence so the ref nipped it in the bud. He had a dangerous look in his eyes'}},\n",
       "      {'data': {'body': 'Is this happening to everyone or just Tatum? It feels like Targeting at this point'}},\n",
       "      {'data': {'body': 'All the great moments they montage in commercials and playoff promos are vehemently policed and discouraged by the league itself and refs'}},\n",
       "      {'data': {'body': 'Meanwhile Zion getting off Scott free for that disgusting hand clap next to him'}},\n",
       "      {'data': {'body': 'Straight to the Gulag. Throw away the key.'}},\n",
       "      {'data': {'body': ''}}]}}},\n",
       "  {'title': \"[NBA Communications] Victor Wembanyama has been fined $25,000 for throwing the game ball into the spectator stands following the Spurs' 130-126 victory over the New York Knicks\",\n",
       "   'selftext': '',\n",
       "   'comments': {'kind': 'Listing',\n",
       "    'data': {'children': [{'data': {'body': 'So throwing a ball into the stands and physically assaulting someone on the court get you the same fine?'}},\n",
       "      {'data': {'body': \"That's choke-a-player money!!\"}},\n",
       "      {'data': {'body': 'Just saw Wemby fall to his knees in the HEB parking lot'}},\n",
       "      {'data': {'body': 'So just as much as Draymond got fined for putting Gobert in a chokehold'}},\n",
       "      {'data': {'body': 'I’ll fuckin do it again'}},\n",
       "      {'data': {'body': 'His welcome to the NBA moment'}},\n",
       "      {'data': {'body': 'That’s equivalent to about a $100-200 fine for those of us who can’t relate to a multimillionaire'}},\n",
       "      {'data': {'body': 'What has happened to the game i love?'}},\n",
       "      {'data': {'body': 'Even the poster child isn’t safe from Adam Silver'}},\n",
       "      {'data': {'body': 'Then they put fans court-side. 😂'}},\n",
       "      {'data': {'body': ''}}]}}},\n",
       "  {'title': 'Despite 8 years elapsing since his departure, OKC Thunder fans still serenade Kevin Durant with boos upon his return',\n",
       "   'selftext': '',\n",
       "   'comments': {'kind': 'Listing',\n",
       "    'data': {'children': [{'data': {'body': '\\xa0that was honestly pretty tame compared to earlier years\\xa0'}},\n",
       "      {'data': {'body': 'I was at the game. They booed every time the ball was in his hands. For the entire game.'}},\n",
       "      {'data': {'body': '2016 being 8 years ago made me feel sad'}},\n",
       "      {'data': {'body': 'OKC should hand out KD wigs every time he comes into town.'}},\n",
       "      {'data': {'body': \"Am I the only one that sees nothing wrong with this?\\n\\nHe didn't win them anything, and he left to go to a rival.\"}},\n",
       "      {'data': {'body': 'Only 8 years? Seems like a million. My Dad was still alive and a big OKC fan during the Durant years. We would watch OKC when I would visit. KD on his third team since.'}},\n",
       "      {'data': {'body': 'Love the commitment! One of the things I miss when watching the nba compared to European soccer is the lack of true rivalries'}},\n",
       "      {'data': {'body': \"KD is 35 years old and doesn't have a real NBA home\\n\\nSad\"}},\n",
       "      {'data': {'body': 'As they should'}},\n",
       "      {'data': {'body': 'Well deserved'}},\n",
       "      {'data': {'body': ''}}]}}},\n",
       "  {'title': 'Jeff Teague recounts how Thanasis is like an assistant coach on the Bucks, saying, \"He used to really like pull me to the side before the game and tell me what I needed to do.\"',\n",
       "   'selftext': '',\n",
       "   'comments': {'kind': 'Listing',\n",
       "    'data': {'children': [{'data': {'body': '“Bro I’m on this group project like you” 🤣 Teague is hilarious'}},\n",
       "      {'data': {'body': 'I’m on this group project like you 😂 \\n\\nLove Jeff Teague humility! Plus he was actually a good player especially during his hawks days.'}},\n",
       "      {'data': {'body': 'Their next Head Coach has been on the bench this whole time.'}},\n",
       "      {'data': {'body': 'Jeff Teague is absolutely my favorite ex-player turned podcaster. Really funny, laid back guy who, in stark contrast to almost every other athlete who has a podcast, doesn’t take himself too seriously.'}},\n",
       "      {'data': {'body': 'Teague started on a 60-win team and was an All-Star but talks about himself like he was a scrub. lol.'}},\n",
       "      {'data': {'body': 'You joke, but Thanasty actually made a couple plays in the Nets series that helped the Bucks win.'}},\n",
       "      {'data': {'body': 'Jeff Teague is a gem, his laid-back vibe is a fresh breath in the podcast world. Perfect blend of humor and humility, puts a good spin on the old Hawk days!'}},\n",
       "      {'data': {'body': 'People act like Thanasis was playing rec basketball before coming to theBbucks. He was good enough to play pro ball overseas and inspired Giannis so he absolutely knows a thing or two about the game'}},\n",
       "      {'data': {'body': 'Group project lmfao. Teague is a real one'}},\n",
       "      {'data': {'body': \"Thanasis to me has always seemed like someone who has good basketball IQ but can't really translate it onto the court.\"}},\n",
       "      {'data': {'body': ''}}]}}},\n",
       "  {'title': '[Adrian Wojnarowski] ESPN Sources: Sacramento Kings G Malik Monk has suffered a sprained right MCL and is expected to miss four-to-six weeks. Monk — who’s had a career-best season — needs a Kings run in the Western Conference playoffs to return this season.',\n",
       "   'selftext': '',\n",
       "   'comments': {'kind': 'Listing',\n",
       "    'data': {'children': [{'data': {'body': 'If that was Malik’s last game as a King I’ll be devastated'}},\n",
       "      {'data': {'body': 'massive blow to them. Sucks really bad, I like Monk.'}},\n",
       "      {'data': {'body': \"Bruuuhhhhh. No way Monks last game as a Kings is like that.  I hope to god he re-signs with us, even though Kings can't offer him close to what other teams can.\"}},\n",
       "      {'data': {'body': 'Kings can’t catch a break. Sheesh.'}},\n",
       "      {'data': {'body': 'Well that’s the season ggs'}},\n",
       "      {'data': {'body': 'Damn sorry kings fans 😔'}},\n",
       "      {'data': {'body': \"hate to see that man he's been amazing this year\"}},\n",
       "      {'data': {'body': 'Bruh Kings taking huge hits\\n\\nHuerter now Monk'}},\n",
       "      {'data': {'body': 'Great season Malik!! Congrats on 6MOY'}},\n",
       "      {'data': {'body': 'Keon Ellis szn'}},\n",
       "      {'data': {'body': ''}}]}}}]}"
      ]
     },
     "execution_count": 14,
     "metadata": {},
     "output_type": "execute_result"
    }
   ],
   "source": []
  },
  {
   "cell_type": "code",
   "execution_count": 20,
   "metadata": {},
   "outputs": [],
   "source": [
    "# Open the JSON file for reading\n",
    "with open('data/nba.json', 'r', encoding=\"utf8\") as file:\n",
    "    # Load the JSON data into a dictionary\n",
    "    data = json.load(file)\n",
    "\n",
    "hot_posts = data['hotposts']\n",
    "gpt_input = \"\"\n",
    "for hot_post in hot_posts:\n",
    "    title = hot_post['title']\n",
    "    body = hot_post['selftext']\n",
    "    comments_arr = hot_post['comments']['data']['children']\n",
    "    comments = \"\"\n",
    "    for comment in comments_arr:\n",
    "        comment_text = comment['data']['body']\n",
    "        comments += comment_text + ','\n",
    "    formatted_hot_post = 'Post title: title' + '\\n' + ' Post body: ' + body + '\\n' + 'Post comments: ' + comments\n",
    "    gpt_input += formatted_hot_post + '\\n'"
   ]
  },
  {
   "cell_type": "code",
   "execution_count": 21,
   "metadata": {},
   "outputs": [
    {
     "data": {
      "text/plain": [
       "'Post title: title\\n Post body: 12/22 FG (55%)\\n\\n12/16 FT (75%)\\n\\n16 REB (4 OFF 12 DEF)\\n\\n7 AST\\n\\n3 STL\\n\\n1 BLK\\n\\nGiannis dominated the Hawks without Dame and even held down the defense when Brook was on the bench with Doc playing a Giannis-anchored defense.\\n\\n[Box Score](https://www.nba.com/game/mil-vs-atl-0022301076/box-score)\\nPost comments: Took way too many unnecessary jumpers and still ends it on 55% lol,Giannis has been incredible. I can\\'t figure out how he\\'s basically considered out of the MVP race.\\n\\nPeople talk about the Bucks under performing but Dame has been below average all year, Middleton has been in and out with injuries, they had a coaching change.\\n\\nThe fact that Giannis is doing what he\\'s doing despite that and the Bucks are still 2nd in the East and have the 5th best record in the  nba should be seen as a positive for him, but for some reason it\\'s a negative.,curious why he isn\\'t in mvp talks,In a few years people are going to look at this season Giannis is having and be completely baffled how he finished so low in the MVP race.,For the life of me I can\\'t figure out why Shai is consensus over him in MVP talks.,He had 8 assists. Don\\'t sell my man short.,The NBA has been officially saved from the Trae-less Hawks. The East can sleep easy tonight.,Celtics beat Bucks, Hawks beat Celtics, Bucks beat Hawks. Perfectly balanced.,Best player in the world back on his bullshit!\\n\\nHeld to the highest standard itl,Dominated!\\xa0\\n\\n2x MVP in full effect\\xa0,,\\nPost title: title\\n Post body: \\nPost comments: This guy gets it,As he should. He gave them his all when he was there until the franchise decided to go in a different direction,Let me translate this for my Memphis homies… Russ is to Mike Conley as KD is to Coach Cal,it makes me very happy to see all the love russ still gets in okc :’),seeing them cheer Russ and Boo KD brings me happiness.,I loved how Westbrook did his little pre-game warm up,I like how Russ gave them that quick wave and heart pound to the crowd and then instantly went into \"time to kill these mfers now\",I know 300 is basically a fake movie, but goddamn that first year without KD + the triple double season + MVP + scoring champ was the equivalent of fighting in the Battle of Thermopylae\\n\\nHe became a top 5 all time favorite non-Heat player for me,Respect to Russ. Man gave the franchise all that he could. Love seeing the difference between him and KD though,Completely deserved, must be a great moment for him every time he comes back.,,\\nPost title: title\\n Post body: \\nPost comments: **Replays/alternate angles** *I am a bot, and this action was performed automatically. Please [contact the moderators of this subreddit](/message/compose/?to=/r/nba) if you have any questions or concerns.*\\n\\n\\n*I am a bot, and this action was performed automatically. Please [contact the moderators of this subreddit](/message/compose/?to=/r/nba) if you have any questions or concerns.*,I saw he had 4 blocks in this game, didn’t know it was in one possession.,who da fuk is ziongus piongus,It looked like taking food from a bulldog.,I’m here for the zingus championship run,I’m no coach but 4 dudes at or near the paint you kick it out to one of your four other players no?,Zion Stopper,Ziongus Piongus, the real MVP. Got them locks tighter than Fort Knox. Bring that trophy home, big fella.,Latvian Gobert in tha House!!!!!!,Good defense is one of the more beautiful aspects of this sport.,,\\nPost title: title\\n Post body: [Source:](https://www.statmuse.com/nba/ask/most-career-games-with-30-points-10-rebound-and-5-assists)\\n\\nNot surprising to see the GOAT on here, but Giannis looks like he might demolish that record, especially considering those have been right around his season averages for the last 5 seasons. Is 30/10/5 his signature stat line?\\n\\nPost comments: &gt; Is 30/10/5 his signature stat line?\\n\\nNgl tho that really is the Giannis line,Same no.of 30/10/5 games. 10 years apart. Giannis wasn\\'t even a 2nd option his first 2 seasons. He\\'s been on an all-time pace since 2017/18,On his BBRef page:\\n\\n&gt;**Giannis Antetokounmpo**\\xa0is the only player in NBA history to average at least 25 PPG, 10 RPG, 5 APG, 1 BPG and 1 SPG in multiple seasons.\\n\\nHe\\'s on pace to do it for the 5th time this year,That’s kind of unreal.,Why haven’t I heard anything about him lately? Dude is that guy,That is actually blowing my mind,Kind of surprised Kareem isn’t on this list… what’s the cutoff year for included stats here?,Is there a reason he’s not a top mvp candidate? I feel like I’ve been hearing Luka, Jokic, shai, Tatum but not Giannis enough,Lebron and I are tied for games with 27/7/7 stat line.,6\\'3\" Westbrook casually including himself with the big men.,,\\nPost title: title\\n Post body: LeBron reaching 40k/10k/10k was a widely publicized achievement for good reason... it\\'s fucking absurd.\\n\\nIncredibly, he has a pretty damn good chance at reaching 40k/11k/11k this year, though. \\n\\nHe\\'s 59 assists away with 8 games left, which comes out to roughly 7.4 assists per game. He averages 8.1 assists per game on the season but over the past two months he\\'s at 9.3. So if he plays all 8 games, he should definitely hit it. Granted it\\'s not guaranteed he\\'ll play all 8.\\n\\nIn any case, he\\'ll hit it at some point.\\n\\nAll-time assists leaders for those curious:\\n\\n1. Stockton: 15806\\n2. Kidd: 12091\\n3. Paul: 11842\\n4. LeBron: 10941\\n\\nNo shot at cracking anyone above him. He averages 521 assists per season and he\\'s 901 assists behind CP3. Even if CP3 retired after this season it would probably be a close call. Still, #4 all-time is pretty sweet.\\nPost comments: Lebron\\'s highlight reel will be longer than a Scorcese movie,Lebron gonna play till he\\'s 50, he can beat cp3,he\\'s got 2 separate Hall of Fame careers.  so crazy.,Rumours are he plans to sign 3 years deal, no? If he plays 3 more I can see him finishing 2nd on that list.,LeBron can definitely catch CP3 and Kidd,Oldest all nba player?,ngl i want LeBron to play until he\\'s 50 and break all the statistics record lmfao,Another fun Lebron fact. Once Chris Paul retires, Lebron will be the active leader in points, rebounds, assists and steals. And he is 10th in blocks,I love coming into these threads and still seeing people doubt this man like we haven’t been watching this shit for 2 decades,\"No shot\" lol. Sure OP. \\n\\n*Sure*.,,\\nPost title: title\\n Post body: \\nPost comments: **Replays/alternate angles** *I am a bot, and this action was performed automatically. Please [contact the moderators of this subreddit](/message/compose/?to=/r/nba) if you have any questions or concerns.*\\n\\n\\n*I am a bot, and this action was performed automatically. Please [contact the moderators of this subreddit](/message/compose/?to=/r/nba) if you have any questions or concerns.*,This has to be a running joke among the refs at this point.,Tony Brothers vs Celtics is a special rivalry lmao. He gave Jaylen Brown a tech 1-2 months ago too for a hand clap,I swear this gets funnier every time. I’d be so pissed though if I was a Celtics fan. Because this is truly unfair.,Does anyone get softer techs than Tatum?,The right call. Clearly this was going to escalate to violence so the ref nipped it in the bud. He had a dangerous look in his eyes,Is this happening to everyone or just Tatum? It feels like Targeting at this point,All the great moments they montage in commercials and playoff promos are vehemently policed and discouraged by the league itself and refs,Meanwhile Zion getting off Scott free for that disgusting hand clap next to him,Straight to the Gulag. Throw away the key.,,\\nPost title: title\\n Post body: \\nPost comments: So throwing a ball into the stands and physically assaulting someone on the court get you the same fine?,That\\'s choke-a-player money!!,Just saw Wemby fall to his knees in the HEB parking lot,So just as much as Draymond got fined for putting Gobert in a chokehold,I’ll fuckin do it again,His welcome to the NBA moment,That’s equivalent to about a $100-200 fine for those of us who can’t relate to a multimillionaire,What has happened to the game i love?,Even the poster child isn’t safe from Adam Silver,Then they put fans court-side. 😂,,\\nPost title: title\\n Post body: \\nPost comments: \\xa0that was honestly pretty tame compared to earlier years\\xa0,I was at the game. They booed every time the ball was in his hands. For the entire game.,2016 being 8 years ago made me feel sad,OKC should hand out KD wigs every time he comes into town.,Am I the only one that sees nothing wrong with this?\\n\\nHe didn\\'t win them anything, and he left to go to a rival.,Only 8 years? Seems like a million. My Dad was still alive and a big OKC fan during the Durant years. We would watch OKC when I would visit. KD on his third team since.,Love the commitment! One of the things I miss when watching the nba compared to European soccer is the lack of true rivalries,KD is 35 years old and doesn\\'t have a real NBA home\\n\\nSad,As they should,Well deserved,,\\nPost title: title\\n Post body: \\nPost comments: “Bro I’m on this group project like you” 🤣 Teague is hilarious,I’m on this group project like you 😂 \\n\\nLove Jeff Teague humility! Plus he was actually a good player especially during his hawks days.,Their next Head Coach has been on the bench this whole time.,Jeff Teague is absolutely my favorite ex-player turned podcaster. Really funny, laid back guy who, in stark contrast to almost every other athlete who has a podcast, doesn’t take himself too seriously.,Teague started on a 60-win team and was an All-Star but talks about himself like he was a scrub. lol.,You joke, but Thanasty actually made a couple plays in the Nets series that helped the Bucks win.,Jeff Teague is a gem, his laid-back vibe is a fresh breath in the podcast world. Perfect blend of humor and humility, puts a good spin on the old Hawk days!,People act like Thanasis was playing rec basketball before coming to theBbucks. He was good enough to play pro ball overseas and inspired Giannis so he absolutely knows a thing or two about the game,Group project lmfao. Teague is a real one,Thanasis to me has always seemed like someone who has good basketball IQ but can\\'t really translate it onto the court.,,\\nPost title: title\\n Post body: \\nPost comments: If that was Malik’s last game as a King I’ll be devastated,massive blow to them. Sucks really bad, I like Monk.,Bruuuhhhhh. No way Monks last game as a Kings is like that.  I hope to god he re-signs with us, even though Kings can\\'t offer him close to what other teams can.,Kings can’t catch a break. Sheesh.,Well that’s the season ggs,Damn sorry kings fans 😔,hate to see that man he\\'s been amazing this year,Bruh Kings taking huge hits\\n\\nHuerter now Monk,Great season Malik!! Congrats on 6MOY,Keon Ellis szn,,\\n'"
      ]
     },
     "execution_count": 21,
     "metadata": {},
     "output_type": "execute_result"
    }
   ],
   "source": [
    "gpt_input"
   ]
  },
  {
   "cell_type": "code",
   "execution_count": 40,
   "metadata": {},
   "outputs": [],
   "source": [
    "completion = client.chat.completions.create(\n",
    "  model=model,\n",
    "  messages=[\n",
    "    {\"role\": \"assistant\", \n",
    "     \"content\": \n",
    "     \"You are a daily newsletter writer that summarizes the past day's hot posts on a subreddit, with a chill, informative, modern narrative tone.\"},\n",
    "     {\"role\": \"user\", \"content\": f\"Provide me a newsletter title and body for the following subreddit's hot posts and comments, without an intro and signoff. Format response by including \\\"Newsletter Title:\\\" and \\\"Newsletter Body:\\\" in your response.: {gpt_input}.\"}\n",
    "  ],\n",
    "  temperature=0.3,\n",
    "  max_tokens=800\n",
    ")"
   ]
  },
  {
   "cell_type": "code",
   "execution_count": 41,
   "metadata": {},
   "outputs": [],
   "source": [
    "raw_text = completion.choices[0].message.content"
   ]
  },
  {
   "cell_type": "code",
   "execution_count": 42,
   "metadata": {},
   "outputs": [
    {
     "data": {
      "text/plain": [
       "\"Newsletter Title: Hoops Highlights Daily\\n\\nNewsletter Body:\\nGiannis Antetokounmpo showcased his dominance against the Hawks, leading the Bucks to victory with an impressive stat line. Despite some fans questioning his MVP candidacy, Giannis continues to shine, proving his worth in the league. The Bucks' rollercoaster season hasn't dampened Giannis' performance, and his consistency is a testament to his skill.\\n\\nIn another game, the spotlight was on Westbrook as he received love from OKC fans. His contributions to the Thunder franchise were celebrated, contrasting with the reception Durant faced. Westbrook's legacy continues to grow, with fans eager to see him excel on the court.\\n\\nMeanwhile, discussions around signature stat lines and career milestones in the NBA sparked debates among fans. From LeBron's impressive stats to Giannis' consistent performance, the league's top players are making history with their achievements.\\n\\nOn a lighter note, Jeff Teague's humorous comparison of group projects resonated with fans, showcasing his laid-back personality off the court. The NBA community appreciates Teague's humility and humor, making him a fan favorite even after his playing days.\\n\\nAs the season progresses, the NBA remains a hub of excitement and drama, with players like Malik Monk leaving fans on edge with uncertain futures. The ups and downs of the league keep fans engaged, eagerly anticipating the next game-changing moment.\""
      ]
     },
     "execution_count": 42,
     "metadata": {},
     "output_type": "execute_result"
    }
   ],
   "source": [
    "raw_text"
   ]
  },
  {
   "cell_type": "code",
   "execution_count": 43,
   "metadata": {},
   "outputs": [],
   "source": [
    "title_start = raw_text.index(\"Newsletter Title:\") + len(\"Newsletter Title:\")\n",
    "title_end = raw_text.index(\"Newsletter Body:\")\n",
    "title =  raw_text[title_start:title_end].strip()\n",
    "\n",
    "body_start = raw_text.index(\"Newsletter Body:\") + len(\"Newsletter Body:\")\n",
    "body = raw_text[body_start:].strip()"
   ]
  },
  {
   "cell_type": "code",
   "execution_count": 44,
   "metadata": {},
   "outputs": [
    {
     "data": {
      "text/plain": [
       "'Hoops Highlights Daily'"
      ]
     },
     "execution_count": 44,
     "metadata": {},
     "output_type": "execute_result"
    }
   ],
   "source": [
    "title"
   ]
  },
  {
   "cell_type": "code",
   "execution_count": 45,
   "metadata": {},
   "outputs": [
    {
     "data": {
      "text/plain": [
       "\"Giannis Antetokounmpo showcased his dominance against the Hawks, leading the Bucks to victory with an impressive stat line. Despite some fans questioning his MVP candidacy, Giannis continues to shine, proving his worth in the league. The Bucks' rollercoaster season hasn't dampened Giannis' performance, and his consistency is a testament to his skill.\\n\\nIn another game, the spotlight was on Westbrook as he received love from OKC fans. His contributions to the Thunder franchise were celebrated, contrasting with the reception Durant faced. Westbrook's legacy continues to grow, with fans eager to see him excel on the court.\\n\\nMeanwhile, discussions around signature stat lines and career milestones in the NBA sparked debates among fans. From LeBron's impressive stats to Giannis' consistent performance, the league's top players are making history with their achievements.\\n\\nOn a lighter note, Jeff Teague's humorous comparison of group projects resonated with fans, showcasing his laid-back personality off the court. The NBA community appreciates Teague's humility and humor, making him a fan favorite even after his playing days.\\n\\nAs the season progresses, the NBA remains a hub of excitement and drama, with players like Malik Monk leaving fans on edge with uncertain futures. The ups and downs of the league keep fans engaged, eagerly anticipating the next game-changing moment.\""
      ]
     },
     "execution_count": 45,
     "metadata": {},
     "output_type": "execute_result"
    }
   ],
   "source": [
    "body"
   ]
  },
  {
   "cell_type": "code",
   "execution_count": 48,
   "metadata": {},
   "outputs": [],
   "source": [
    "import firebase_admin\n",
    "from firebase_admin import credentials\n",
    "from firebase_admin import firestore\n",
    "\n",
    "# Use a service account.\n",
    "cred = credentials.Certificate(\"../reddit-newsletter-firebase-key.json\")\n",
    "\n",
    "app = firebase_admin.initialize_app(cred)\n",
    "\n",
    "db = firestore.client()"
   ]
  },
  {
   "cell_type": "code",
   "execution_count": 59,
   "metadata": {},
   "outputs": [],
   "source": [
    "today = date.today()\n",
    "firestore_today = datetime(today.year, today.month, today.day)"
   ]
  },
  {
   "cell_type": "code",
   "execution_count": 60,
   "metadata": {},
   "outputs": [
    {
     "data": {
      "text/plain": [
       "update_time {\n",
       "  seconds: 1711930232\n",
       "  nanos: 554743000\n",
       "}"
      ]
     },
     "execution_count": 60,
     "metadata": {},
     "output_type": "execute_result"
    }
   ],
   "source": [
    "doc_ref = db.collection(\"daily_subreddit_summary\").document(f\"nba - {today}\")\n",
    "doc_ref.set({\"date\": firestore_today, \"title\": title, \"body\": body})"
   ]
  },
  {
   "cell_type": "code",
   "execution_count": null,
   "metadata": {},
   "outputs": [],
   "source": []
  }
 ],
 "metadata": {
  "kernelspec": {
   "display_name": ".venv",
   "language": "python",
   "name": "python3"
  },
  "language_info": {
   "codemirror_mode": {
    "name": "ipython",
    "version": 3
   },
   "file_extension": ".py",
   "mimetype": "text/x-python",
   "name": "python",
   "nbconvert_exporter": "python",
   "pygments_lexer": "ipython3",
   "version": "3.9.0"
  }
 },
 "nbformat": 4,
 "nbformat_minor": 2
}
